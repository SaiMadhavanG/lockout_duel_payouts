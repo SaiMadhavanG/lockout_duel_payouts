{
 "cells": [
  {
   "cell_type": "code",
   "execution_count": 213,
   "metadata": {},
   "outputs": [],
   "source": [
    "import pandas as pd"
   ]
  },
  {
   "cell_type": "code",
   "execution_count": 214,
   "metadata": {},
   "outputs": [],
   "source": [
    "commission_rate = 0.00\n",
    "match_name = \"raj_neil\""
   ]
  },
  {
   "cell_type": "code",
   "execution_count": 215,
   "metadata": {},
   "outputs": [
    {
     "name": "stdout",
     "output_type": "stream",
     "text": [
      "Data Preview:\n"
     ]
    },
    {
     "data": {
      "text/html": [
       "<div>\n",
       "<style scoped>\n",
       "    .dataframe tbody tr th:only-of-type {\n",
       "        vertical-align: middle;\n",
       "    }\n",
       "\n",
       "    .dataframe tbody tr th {\n",
       "        vertical-align: top;\n",
       "    }\n",
       "\n",
       "    .dataframe thead th {\n",
       "        text-align: right;\n",
       "    }\n",
       "</style>\n",
       "<table border=\"1\" class=\"dataframe\">\n",
       "  <thead>\n",
       "    <tr style=\"text-align: right;\">\n",
       "      <th></th>\n",
       "      <th>Player</th>\n",
       "      <th>Side</th>\n",
       "      <th>Wager</th>\n",
       "    </tr>\n",
       "  </thead>\n",
       "  <tbody>\n",
       "    <tr>\n",
       "      <th>0</th>\n",
       "      <td>Harsh</td>\n",
       "      <td>Neil</td>\n",
       "      <td>20</td>\n",
       "    </tr>\n",
       "    <tr>\n",
       "      <th>1</th>\n",
       "      <td>Darshak</td>\n",
       "      <td>Raj</td>\n",
       "      <td>20</td>\n",
       "    </tr>\n",
       "    <tr>\n",
       "      <th>2</th>\n",
       "      <td>Aditya</td>\n",
       "      <td>Neil</td>\n",
       "      <td>20</td>\n",
       "    </tr>\n",
       "    <tr>\n",
       "      <th>3</th>\n",
       "      <td>Subhajeet</td>\n",
       "      <td>Raj</td>\n",
       "      <td>20</td>\n",
       "    </tr>\n",
       "    <tr>\n",
       "      <th>4</th>\n",
       "      <td>Arin</td>\n",
       "      <td>Raj</td>\n",
       "      <td>20</td>\n",
       "    </tr>\n",
       "  </tbody>\n",
       "</table>\n",
       "</div>"
      ],
      "text/plain": [
       "      Player  Side  Wager\n",
       "0      Harsh  Neil     20\n",
       "1    Darshak   Raj     20\n",
       "2     Aditya  Neil     20\n",
       "3  Subhajeet   Raj     20\n",
       "4       Arin   Raj     20"
      ]
     },
     "execution_count": 215,
     "metadata": {},
     "output_type": "execute_result"
    }
   ],
   "source": [
    "df = pd.read_csv(f'{match_name}.csv')\n",
    "\n",
    "# Display the first few rowss to verify\n",
    "print(\"Data Preview:\")\n",
    "df"
   ]
  },
  {
   "cell_type": "code",
   "execution_count": 216,
   "metadata": {},
   "outputs": [
    {
     "data": {
      "text/plain": [
       "array(['Neil', 'Raj'], dtype=object)"
      ]
     },
     "execution_count": 216,
     "metadata": {},
     "output_type": "execute_result"
    }
   ],
   "source": [
    "sides = df['Side'].unique()\n",
    "sides"
   ]
  },
  {
   "cell_type": "code",
   "execution_count": 217,
   "metadata": {},
   "outputs": [
    {
     "name": "stdout",
     "output_type": "stream",
     "text": [
      "\n",
      "Total wager on Neil: 40\n",
      "Total wager on Raj: 60\n"
     ]
    }
   ],
   "source": [
    "totals = df.groupby('Side')['Wager'].sum()\n",
    "total_A = totals.get(sides[0], 0)\n",
    "total_B = totals.get(sides[1], 0)\n",
    "\n",
    "print(f\"\\nTotal wager on {sides[0]}: {total_A}\")\n",
    "print(f\"Total wager on {sides[1]}: {total_B}\")"
   ]
  },
  {
   "cell_type": "code",
   "execution_count": 218,
   "metadata": {},
   "outputs": [],
   "source": [
    "def calculate_payout(row, sides, total_A, total_B, commission_rate=0.05):\n",
    "    \"\"\"\n",
    "    Calculate the payout for a player, taking into account the commission fee.\n",
    "\n",
    "    :param row: The row containing the player's details (including 'Side' and 'Wager').\n",
    "    :param sides: List of two sides ('Side A' and 'Side B').\n",
    "    :param total_A: Total amount wagered on Side A.\n",
    "    :param total_B: Total amount wagered on Side B.\n",
    "    :param commission_rate: The commission fee percentage (default is 5%).\n",
    "    :return: The net payout after commission.\n",
    "    \"\"\"\n",
    "    side = row['Side']\n",
    "    wager = row['Wager']\n",
    "    \n",
    "    # Calculate the payout based on the side that wins\n",
    "    if side == sides[0]:  # Player bet on Side A\n",
    "        payout = round(wager / total_A * total_B, 2) if total_A > 0 else 0\n",
    "    elif side == sides[1]:  # Player bet on Side B\n",
    "        payout = round(wager / total_B * total_A, 2) if total_B > 0 else 0\n",
    "    else:\n",
    "        return 0\n",
    "    \n",
    "    # Apply the commission fee\n",
    "    commission = payout * commission_rate\n",
    "    net_payout = round(payout - commission, 2)\n",
    "    \n",
    "    return net_payout\n"
   ]
  },
  {
   "cell_type": "code",
   "execution_count": 219,
   "metadata": {},
   "outputs": [],
   "source": [
    "def calculate_gross_payout(row, sides, total_A, total_B, commission_rate=0.05):\n",
    "    side = row['Side']\n",
    "    wager = row['Wager']\n",
    "    \n",
    "    # Calculate the payout based on the side that wins\n",
    "    if side == sides[0]:  # Player bet on Side A\n",
    "        payout = round(wager / total_A * total_B, 2) if total_A > 0 else 0\n",
    "    elif side == sides[1]:  # Player bet on Side B\n",
    "        payout = round(wager / total_B * total_A, 2) if total_B > 0 else 0\n",
    "    else:\n",
    "        return 0\n",
    "    \n",
    "    # Apply the commission fee\n",
    "    commission = payout * commission_rate\n",
    "    net_payout = round(payout - commission, 2)\n",
    "    \n",
    "    return net_payout + row['Wager']"
   ]
  },
  {
   "cell_type": "code",
   "execution_count": 220,
   "metadata": {},
   "outputs": [],
   "source": [
    "df[f'Payout_if_{sides[0]}_wins'] = df.apply(lambda row: calculate_payout(row, sides, total_A, total_B, commission_rate) if row['Side'] == sides[0] else 0, axis=1)\n",
    "df[f'Payout_if_{sides[1]}_wins'] = df.apply(lambda row: calculate_payout(row, sides, total_A, total_B, commission_rate) if row['Side'] == sides[1] else 0, axis=1)"
   ]
  },
  {
   "cell_type": "code",
   "execution_count": 221,
   "metadata": {},
   "outputs": [],
   "source": [
    "df[f'Total_Payout_if_{sides[0]}_wins'] = df.apply(lambda row: calculate_gross_payout(row, sides, total_A, total_B, commission_rate) if row['Side'] == sides[0] else 0, axis=1)\n",
    "df[f'Total_Payout_if_{sides[1]}_wins'] = df.apply(lambda row: calculate_gross_payout(row, sides, total_A, total_B, commission_rate) if row['Side'] == sides[1] else 0, axis=1)"
   ]
  },
  {
   "cell_type": "code",
   "execution_count": 222,
   "metadata": {},
   "outputs": [
    {
     "data": {
      "text/html": [
       "<div>\n",
       "<style scoped>\n",
       "    .dataframe tbody tr th:only-of-type {\n",
       "        vertical-align: middle;\n",
       "    }\n",
       "\n",
       "    .dataframe tbody tr th {\n",
       "        vertical-align: top;\n",
       "    }\n",
       "\n",
       "    .dataframe thead th {\n",
       "        text-align: right;\n",
       "    }\n",
       "</style>\n",
       "<table border=\"1\" class=\"dataframe\">\n",
       "  <thead>\n",
       "    <tr style=\"text-align: right;\">\n",
       "      <th></th>\n",
       "      <th>Player</th>\n",
       "      <th>Side</th>\n",
       "      <th>Wager</th>\n",
       "      <th>Payout_if_Neil_wins</th>\n",
       "      <th>Payout_if_Raj_wins</th>\n",
       "      <th>Total_Payout_if_Neil_wins</th>\n",
       "      <th>Total_Payout_if_Raj_wins</th>\n",
       "    </tr>\n",
       "  </thead>\n",
       "  <tbody>\n",
       "    <tr>\n",
       "      <th>0</th>\n",
       "      <td>Harsh</td>\n",
       "      <td>Neil</td>\n",
       "      <td>20</td>\n",
       "      <td>30.0</td>\n",
       "      <td>0.00</td>\n",
       "      <td>50.0</td>\n",
       "      <td>0.00</td>\n",
       "    </tr>\n",
       "    <tr>\n",
       "      <th>1</th>\n",
       "      <td>Darshak</td>\n",
       "      <td>Raj</td>\n",
       "      <td>20</td>\n",
       "      <td>0.0</td>\n",
       "      <td>13.33</td>\n",
       "      <td>0.0</td>\n",
       "      <td>33.33</td>\n",
       "    </tr>\n",
       "    <tr>\n",
       "      <th>2</th>\n",
       "      <td>Aditya</td>\n",
       "      <td>Neil</td>\n",
       "      <td>20</td>\n",
       "      <td>30.0</td>\n",
       "      <td>0.00</td>\n",
       "      <td>50.0</td>\n",
       "      <td>0.00</td>\n",
       "    </tr>\n",
       "    <tr>\n",
       "      <th>3</th>\n",
       "      <td>Subhajeet</td>\n",
       "      <td>Raj</td>\n",
       "      <td>20</td>\n",
       "      <td>0.0</td>\n",
       "      <td>13.33</td>\n",
       "      <td>0.0</td>\n",
       "      <td>33.33</td>\n",
       "    </tr>\n",
       "    <tr>\n",
       "      <th>4</th>\n",
       "      <td>Arin</td>\n",
       "      <td>Raj</td>\n",
       "      <td>20</td>\n",
       "      <td>0.0</td>\n",
       "      <td>13.33</td>\n",
       "      <td>0.0</td>\n",
       "      <td>33.33</td>\n",
       "    </tr>\n",
       "  </tbody>\n",
       "</table>\n",
       "</div>"
      ],
      "text/plain": [
       "      Player  Side  Wager  Payout_if_Neil_wins  Payout_if_Raj_wins  \\\n",
       "0      Harsh  Neil     20                 30.0                0.00   \n",
       "1    Darshak   Raj     20                  0.0               13.33   \n",
       "2     Aditya  Neil     20                 30.0                0.00   \n",
       "3  Subhajeet   Raj     20                  0.0               13.33   \n",
       "4       Arin   Raj     20                  0.0               13.33   \n",
       "\n",
       "   Total_Payout_if_Neil_wins  Total_Payout_if_Raj_wins  \n",
       "0                       50.0                      0.00  \n",
       "1                        0.0                     33.33  \n",
       "2                       50.0                      0.00  \n",
       "3                        0.0                     33.33  \n",
       "4                        0.0                     33.33  "
      ]
     },
     "execution_count": 222,
     "metadata": {},
     "output_type": "execute_result"
    }
   ],
   "source": [
    "df.to_csv(f\"{match_name}_payout.csv\", index=False)\n",
    "df"
   ]
  },
  {
   "cell_type": "code",
   "execution_count": null,
   "metadata": {},
   "outputs": [],
   "source": []
  }
 ],
 "metadata": {
  "kernelspec": {
   "display_name": "Python 3",
   "language": "python",
   "name": "python3"
  },
  "language_info": {
   "codemirror_mode": {
    "name": "ipython",
    "version": 3
   },
   "file_extension": ".py",
   "mimetype": "text/x-python",
   "name": "python",
   "nbconvert_exporter": "python",
   "pygments_lexer": "ipython3",
   "version": "3.10.12"
  }
 },
 "nbformat": 4,
 "nbformat_minor": 2
}
