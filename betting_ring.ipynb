{
 "cells": [
  {
   "cell_type": "code",
   "execution_count": 59,
   "metadata": {},
   "outputs": [],
   "source": [
    "import pandas as pd"
   ]
  },
  {
   "cell_type": "code",
   "execution_count": 60,
   "metadata": {},
   "outputs": [],
   "source": [
    "commission_rate = 0.05"
   ]
  },
  {
   "cell_type": "code",
   "execution_count": 61,
   "metadata": {},
   "outputs": [
    {
     "name": "stdout",
     "output_type": "stream",
     "text": [
      "Data Preview:\n"
     ]
    },
    {
     "data": {
      "text/html": [
       "<div>\n",
       "<style scoped>\n",
       "    .dataframe tbody tr th:only-of-type {\n",
       "        vertical-align: middle;\n",
       "    }\n",
       "\n",
       "    .dataframe tbody tr th {\n",
       "        vertical-align: top;\n",
       "    }\n",
       "\n",
       "    .dataframe thead th {\n",
       "        text-align: right;\n",
       "    }\n",
       "</style>\n",
       "<table border=\"1\" class=\"dataframe\">\n",
       "  <thead>\n",
       "    <tr style=\"text-align: right;\">\n",
       "      <th></th>\n",
       "      <th>Player</th>\n",
       "      <th>Side</th>\n",
       "      <th>Wager</th>\n",
       "    </tr>\n",
       "  </thead>\n",
       "  <tbody>\n",
       "    <tr>\n",
       "      <th>0</th>\n",
       "      <td>Alice</td>\n",
       "      <td>Heads</td>\n",
       "      <td>324</td>\n",
       "    </tr>\n",
       "    <tr>\n",
       "      <th>1</th>\n",
       "      <td>Bob</td>\n",
       "      <td>Tails</td>\n",
       "      <td>832</td>\n",
       "    </tr>\n",
       "    <tr>\n",
       "      <th>2</th>\n",
       "      <td>Mark</td>\n",
       "      <td>Heads</td>\n",
       "      <td>432</td>\n",
       "    </tr>\n",
       "    <tr>\n",
       "      <th>3</th>\n",
       "      <td>Homer</td>\n",
       "      <td>Tails</td>\n",
       "      <td>516</td>\n",
       "    </tr>\n",
       "  </tbody>\n",
       "</table>\n",
       "</div>"
      ],
      "text/plain": [
       "  Player   Side  Wager\n",
       "0  Alice  Heads    324\n",
       "1    Bob  Tails    832\n",
       "2   Mark  Heads    432\n",
       "3  Homer  Tails    516"
      ]
     },
     "execution_count": 61,
     "metadata": {},
     "output_type": "execute_result"
    }
   ],
   "source": [
    "df = pd.read_excel('wagers.xlsx')\n",
    "\n",
    "# Display the first few rowss to verify\n",
    "print(\"Data Preview:\")\n",
    "df"
   ]
  },
  {
   "cell_type": "code",
   "execution_count": 62,
   "metadata": {},
   "outputs": [
    {
     "data": {
      "text/plain": [
       "array(['Heads', 'Tails'], dtype=object)"
      ]
     },
     "execution_count": 62,
     "metadata": {},
     "output_type": "execute_result"
    }
   ],
   "source": [
    "sides = df['Side'].unique()\n",
    "sides"
   ]
  },
  {
   "cell_type": "code",
   "execution_count": 63,
   "metadata": {},
   "outputs": [
    {
     "name": "stdout",
     "output_type": "stream",
     "text": [
      "\n",
      "Total wager on Heads: 756\n",
      "Total wager on Tails: 1348\n"
     ]
    }
   ],
   "source": [
    "totals = df.groupby('Side')['Wager'].sum()\n",
    "total_A = totals.get(sides[0], 0)\n",
    "total_B = totals.get(sides[1], 0)\n",
    "\n",
    "print(f\"\\nTotal wager on {sides[0]}: {total_A}\")\n",
    "print(f\"Total wager on {sides[1]}: {total_B}\")"
   ]
  },
  {
   "cell_type": "code",
   "execution_count": 64,
   "metadata": {},
   "outputs": [],
   "source": [
    "def calculate_payout(row, sides, total_A, total_B, commission_rate=0.05):\n",
    "    \"\"\"\n",
    "    Calculate the payout for a player, taking into account the commission fee.\n",
    "\n",
    "    :param row: The row containing the player's details (including 'Side' and 'Wager').\n",
    "    :param sides: List of two sides ('Side A' and 'Side B').\n",
    "    :param total_A: Total amount wagered on Side A.\n",
    "    :param total_B: Total amount wagered on Side B.\n",
    "    :param commission_rate: The commission fee percentage (default is 5%).\n",
    "    :return: The net payout after commission.\n",
    "    \"\"\"\n",
    "    side = row['Side']\n",
    "    wager = row['Wager']\n",
    "    \n",
    "    # Calculate the payout based on the side that wins\n",
    "    if side == sides[0]:  # Player bet on Side A\n",
    "        payout = round(wager / total_A * total_B, 2) if total_A > 0 else 0\n",
    "    elif side == sides[1]:  # Player bet on Side B\n",
    "        payout = round(wager / total_B * total_A, 2) if total_B > 0 else 0\n",
    "    else:\n",
    "        return 0\n",
    "    \n",
    "    # Apply the commission fee\n",
    "    commission = payout * commission_rate\n",
    "    net_payout = round(payout - commission, 2)\n",
    "    \n",
    "    return net_payout\n"
   ]
  },
  {
   "cell_type": "code",
   "execution_count": 65,
   "metadata": {},
   "outputs": [],
   "source": [
    "def calculate_gross_payout(row, sides, total_A, total_B, commission_rate=0.05):\n",
    "    side = row['Side']\n",
    "    wager = row['Wager']\n",
    "    \n",
    "    # Calculate the payout based on the side that wins\n",
    "    if side == sides[0]:  # Player bet on Side A\n",
    "        payout = round(wager / total_A * total_B, 2) if total_A > 0 else 0\n",
    "    elif side == sides[1]:  # Player bet on Side B\n",
    "        payout = round(wager / total_B * total_A, 2) if total_B > 0 else 0\n",
    "    else:\n",
    "        return 0\n",
    "    \n",
    "    # Apply the commission fee\n",
    "    commission = payout * commission_rate\n",
    "    net_payout = round(payout - commission, 2)\n",
    "    \n",
    "    return net_payout + row['Wager']"
   ]
  },
  {
   "cell_type": "code",
   "execution_count": 66,
   "metadata": {},
   "outputs": [],
   "source": [
    "df[f'Payout_if_{sides[0]}_wins'] = df.apply(lambda row: calculate_payout(row, sides, total_A, total_B, commission_rate) if row['Side'] == sides[0] else 0, axis=1)\n",
    "df[f'Payout_if_{sides[1]}_wins'] = df.apply(lambda row: calculate_payout(row, sides, total_A, total_B, commission_rate) if row['Side'] == sides[1] else 0, axis=1)"
   ]
  },
  {
   "cell_type": "code",
   "execution_count": 67,
   "metadata": {},
   "outputs": [],
   "source": [
    "df[f'Total_Payout_if_{sides[0]}_wins'] = df.apply(lambda row: calculate_gross_payout(row, sides, total_A, total_B, commission_rate) if row['Side'] == sides[0] else 0, axis=1)\n",
    "df[f'Total_Payout_if_{sides[1]}_wins'] = df.apply(lambda row: calculate_gross_payout(row, sides, total_A, total_B, commission_rate) if row['Side'] == sides[1] else 0, axis=1)"
   ]
  },
  {
   "cell_type": "code",
   "execution_count": 68,
   "metadata": {},
   "outputs": [
    {
     "data": {
      "text/html": [
       "<div>\n",
       "<style scoped>\n",
       "    .dataframe tbody tr th:only-of-type {\n",
       "        vertical-align: middle;\n",
       "    }\n",
       "\n",
       "    .dataframe tbody tr th {\n",
       "        vertical-align: top;\n",
       "    }\n",
       "\n",
       "    .dataframe thead th {\n",
       "        text-align: right;\n",
       "    }\n",
       "</style>\n",
       "<table border=\"1\" class=\"dataframe\">\n",
       "  <thead>\n",
       "    <tr style=\"text-align: right;\">\n",
       "      <th></th>\n",
       "      <th>Player</th>\n",
       "      <th>Side</th>\n",
       "      <th>Wager</th>\n",
       "      <th>Payout_if_Heads_wins</th>\n",
       "      <th>Payout_if_Tails_wins</th>\n",
       "      <th>Total_Payout_if_Heads_wins</th>\n",
       "      <th>Total_Payout_if_Tails_wins</th>\n",
       "    </tr>\n",
       "  </thead>\n",
       "  <tbody>\n",
       "    <tr>\n",
       "      <th>0</th>\n",
       "      <td>Alice</td>\n",
       "      <td>Heads</td>\n",
       "      <td>324</td>\n",
       "      <td>548.82</td>\n",
       "      <td>0.00</td>\n",
       "      <td>872.82</td>\n",
       "      <td>0.00</td>\n",
       "    </tr>\n",
       "    <tr>\n",
       "      <th>1</th>\n",
       "      <td>Bob</td>\n",
       "      <td>Tails</td>\n",
       "      <td>832</td>\n",
       "      <td>0.00</td>\n",
       "      <td>443.28</td>\n",
       "      <td>0.00</td>\n",
       "      <td>1275.28</td>\n",
       "    </tr>\n",
       "    <tr>\n",
       "      <th>2</th>\n",
       "      <td>Mark</td>\n",
       "      <td>Heads</td>\n",
       "      <td>432</td>\n",
       "      <td>731.78</td>\n",
       "      <td>0.00</td>\n",
       "      <td>1163.78</td>\n",
       "      <td>0.00</td>\n",
       "    </tr>\n",
       "    <tr>\n",
       "      <th>3</th>\n",
       "      <td>Homer</td>\n",
       "      <td>Tails</td>\n",
       "      <td>516</td>\n",
       "      <td>0.00</td>\n",
       "      <td>274.92</td>\n",
       "      <td>0.00</td>\n",
       "      <td>790.92</td>\n",
       "    </tr>\n",
       "  </tbody>\n",
       "</table>\n",
       "</div>"
      ],
      "text/plain": [
       "  Player   Side  Wager  Payout_if_Heads_wins  Payout_if_Tails_wins  \\\n",
       "0  Alice  Heads    324                548.82                  0.00   \n",
       "1    Bob  Tails    832                  0.00                443.28   \n",
       "2   Mark  Heads    432                731.78                  0.00   \n",
       "3  Homer  Tails    516                  0.00                274.92   \n",
       "\n",
       "   Total_Payout_if_Heads_wins  Total_Payout_if_Tails_wins  \n",
       "0                      872.82                        0.00  \n",
       "1                        0.00                     1275.28  \n",
       "2                     1163.78                        0.00  \n",
       "3                        0.00                      790.92  "
      ]
     },
     "execution_count": 68,
     "metadata": {},
     "output_type": "execute_result"
    }
   ],
   "source": [
    "df"
   ]
  },
  {
   "cell_type": "code",
   "execution_count": null,
   "metadata": {},
   "outputs": [],
   "source": []
  }
 ],
 "metadata": {
  "kernelspec": {
   "display_name": "Python 3",
   "language": "python",
   "name": "python3"
  },
  "language_info": {
   "codemirror_mode": {
    "name": "ipython",
    "version": 3
   },
   "file_extension": ".py",
   "mimetype": "text/x-python",
   "name": "python",
   "nbconvert_exporter": "python",
   "pygments_lexer": "ipython3",
   "version": "3.10.12"
  }
 },
 "nbformat": 4,
 "nbformat_minor": 2
}
